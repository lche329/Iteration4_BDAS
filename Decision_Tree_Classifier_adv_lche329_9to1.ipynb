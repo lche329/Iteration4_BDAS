{
 "cells": [
  {
   "cell_type": "code",
   "execution_count": 38,
   "metadata": {},
   "outputs": [],
   "source": [
    "# Must be included at the beginning of each new notebook. Remember to change the app name.\n",
    "import findspark\n",
    "findspark.init('/home/user/spark-2.1.1-bin-hadoop2.7')\n",
    "import pyspark\n",
    "from pyspark.sql import *\n",
    "spark = SparkSession.builder.appName('logistic_regression_adv_lche329_DTC9to1').getOrCreate()\n",
    "\n",
    "# If you're getting an error with numpy, please type 'sudo pip install numpy --user' into the EC2 console.\n",
    "from pyspark.ml.classification import LogisticRegression"
   ]
  },
  {
   "cell_type": "code",
   "execution_count": 39,
   "metadata": {},
   "outputs": [],
   "source": [
    "# Read in the CSV data.\n",
    "data = spark.read.load('./Sales_data/sales_en.csv',format='csv',header='true',inferSchema = True)"
   ]
  },
  {
   "cell_type": "code",
   "execution_count": 40,
   "metadata": {
    "scrolled": false
   },
   "outputs": [
    {
     "name": "stdout",
     "output_type": "stream",
     "text": [
      "root\n",
      " |-- ID: integer (nullable = true)\n",
      " |-- Year: integer (nullable = true)\n",
      " |-- Product Name: string (nullable = true)\n",
      " |-- Unit: string (nullable = true)\n",
      " |-- Region: string (nullable = true)\n",
      " |-- Sales Representative: string (nullable = true)\n",
      " |-- Hospital Name: string (nullable = true)\n",
      " |-- Hospital Attribute: string (nullable = true)\n",
      " |-- Hospital Code: string (nullable = true)\n",
      " |-- Purchasing Price: double (nullable = true)\n",
      " |-- Selling Price: double (nullable = true)\n",
      " |-- IMF: string (nullable = true)\n",
      " |-- Hospital Class: string (nullable = true)\n",
      " |-- Department: string (nullable = true)\n",
      " |-- Client Name: string (nullable = true)\n",
      " |-- Sales Volume: double (nullable = true)\n",
      " |-- Profits: double (nullable = true)\n",
      " |-- Satisfaction: string (nullable = true)\n",
      "\n"
     ]
    },
    {
     "data": {
      "text/plain": [
       "['ID',\n",
       " 'Year',\n",
       " 'Product Name',\n",
       " 'Unit',\n",
       " 'Region',\n",
       " 'Sales Representative',\n",
       " 'Hospital Name',\n",
       " 'Hospital Attribute',\n",
       " 'Hospital Code',\n",
       " 'Purchasing Price',\n",
       " 'Selling Price',\n",
       " 'IMF',\n",
       " 'Hospital Class',\n",
       " 'Department',\n",
       " 'Client Name',\n",
       " 'Sales Volume',\n",
       " 'Profits',\n",
       " 'Satisfaction']"
      ]
     },
     "execution_count": 40,
     "metadata": {},
     "output_type": "execute_result"
    }
   ],
   "source": [
    "# Print data schema.\n",
    "data.printSchema()\n",
    "\n",
    "# Print data columns.\n",
    "data.columns"
   ]
  },
  {
   "cell_type": "code",
   "execution_count": 41,
   "metadata": {},
   "outputs": [
    {
     "data": {
      "text/plain": [
       "[('Satisfaction', 'string'),\n",
       " ('Sales Representative', 'string'),\n",
       " ('Hospital Attribute', 'string'),\n",
       " ('Selling Price', 'double'),\n",
       " ('Hospital Class', 'string'),\n",
       " ('Department', 'string'),\n",
       " ('Sales Volume', 'double')]"
      ]
     },
     "execution_count": 41,
     "metadata": {},
     "output_type": "execute_result"
    }
   ],
   "source": [
    "# Select a list of relevant columns. \n",
    "# Profits, for example, should not be celected\n",
    "# As the target 'Satisfaction' derives from 'Profits'\n",
    "my_cols = data.select(['Satisfaction',\n",
    " 'Sales Representative',\n",
    " 'Hospital Attribute',\n",
    " 'Selling Price',\n",
    " 'Hospital Class',\n",
    " 'Department',\n",
    " 'Sales Volume'])\n",
    "my_cols.dtypes"
   ]
  },
  {
   "cell_type": "code",
   "execution_count": 42,
   "metadata": {},
   "outputs": [],
   "source": [
    "my_final_data = my_cols"
   ]
  },
  {
   "cell_type": "code",
   "execution_count": 43,
   "metadata": {},
   "outputs": [],
   "source": [
    "from pyspark.ml.feature import (VectorAssembler,VectorIndexer,\n",
    "                                OneHotEncoder,StringIndexer)"
   ]
  },
  {
   "cell_type": "code",
   "execution_count": 44,
   "metadata": {},
   "outputs": [],
   "source": [
    "# First create a string indexer (convert every string into a number, such as male = 0 and female = 1).\n",
    "# A number will be assigned to every category in the column.\n",
    "Sales_Representative_indexer = StringIndexer(inputCol='Sales Representative',outputCol='Sales_Representative_Index')\n",
    "\n",
    "# Now we can one hot encode these numbers. This converts the various outputs into a single vector.\n",
    "# This makes it easier to process when you have multiple classes.\n",
    "Sales_Representative_encoder = OneHotEncoder(inputCol='Sales_Representative_Index',outputCol='Sales_Representative_Vec')"
   ]
  },
  {
   "cell_type": "code",
   "execution_count": 45,
   "metadata": {},
   "outputs": [],
   "source": [
    "Hospital_Attribute_indexer = StringIndexer(inputCol='Hospital Attribute',outputCol='Hospital_Attribute_Index')\n",
    "Hospital_Attribute_encoder = OneHotEncoder(inputCol='Hospital_Attribute_Index',outputCol='Hospital_Attribute_Vec')"
   ]
  },
  {
   "cell_type": "code",
   "execution_count": 46,
   "metadata": {},
   "outputs": [],
   "source": [
    "Hospital_Class_indexer = StringIndexer(inputCol='Hospital Class',outputCol='Hospital_Class_Index')\n",
    "Hospital_Class_encoder = OneHotEncoder(inputCol='Hospital_Class_Index',outputCol='Hospital_Class_Vec')"
   ]
  },
  {
   "cell_type": "code",
   "execution_count": 47,
   "metadata": {},
   "outputs": [],
   "source": [
    "Department_indexer = StringIndexer(inputCol='Department',outputCol='Department_Index')\n",
    "Department_encoder = OneHotEncoder(inputCol='Department_Index',outputCol='Department_Vec')"
   ]
  },
  {
   "cell_type": "code",
   "execution_count": 48,
   "metadata": {
    "scrolled": false
   },
   "outputs": [
    {
     "name": "stdout",
     "output_type": "stream",
     "text": [
      "root\n",
      " |-- Satisfaction: string (nullable = true)\n",
      " |-- Sales Representative: string (nullable = true)\n",
      " |-- Hospital Attribute: string (nullable = true)\n",
      " |-- Selling Price: double (nullable = true)\n",
      " |-- Hospital Class: string (nullable = true)\n",
      " |-- Department: string (nullable = true)\n",
      " |-- Sales Volume: double (nullable = true)\n",
      " |-- Satisfaction_Index: double (nullable = true)\n",
      "\n"
     ]
    }
   ],
   "source": [
    "Satisfaction_indexer = StringIndexer(inputCol='Satisfaction',outputCol='Satisfaction_Index')\n",
    "#Satisfaction_encoder = OneHotEncoder(inputCol='Satisfaction_Index',outputCol='Satisfaction_Vec')\n",
    "my_final_data_indexed = Satisfaction_indexer.fit(my_final_data).transform(my_final_data)\n",
    "my_final_data_indexed.printSchema()\n"
   ]
  },
  {
   "cell_type": "code",
   "execution_count": 49,
   "metadata": {},
   "outputs": [],
   "source": [
    "# Now we can assemble all of this as one vector in the features column.\n",
    "assembler = VectorAssembler(inputCols=['Sales_Representative_Vec',\n",
    " 'Hospital_Attribute_Vec',\n",
    " 'Selling Price',\n",
    " 'Hospital_Class_Vec',\n",
    " 'Department_Vec',\n",
    " 'Sales Volume'],outputCol='features')"
   ]
  },
  {
   "cell_type": "code",
   "execution_count": 50,
   "metadata": {},
   "outputs": [],
   "source": [
    "#from pyspark.ml.classification import LogisticRegression\n",
    "from pyspark.ml.classification import DecisionTreeClassifier"
   ]
  },
  {
   "cell_type": "code",
   "execution_count": 51,
   "metadata": {},
   "outputs": [],
   "source": [
    "from pyspark.ml import Pipeline"
   ]
  },
  {
   "cell_type": "code",
   "execution_count": 52,
   "metadata": {},
   "outputs": [],
   "source": [
    "#log_reg_sales = LogisticRegression(featuresCol='features',labelCol='Satisfaction_Index')\n",
    "log_reg_sales = DecisionTreeClassifier(featuresCol='features',labelCol='Satisfaction_Index')"
   ]
  },
  {
   "cell_type": "code",
   "execution_count": 53,
   "metadata": {},
   "outputs": [],
   "source": [
    "# Lists everything we want to do. Index data, encode data, assemble data and then pass in the actual model.\n",
    "pipeline = Pipeline(stages=[Sales_Representative_indexer,Hospital_Attribute_indexer,Hospital_Class_indexer,Department_indexer,\n",
    "                           Sales_Representative_encoder,Hospital_Attribute_encoder,Hospital_Class_encoder,Department_encoder,\n",
    "                           assembler,log_reg_sales])"
   ]
  },
  {
   "cell_type": "code",
   "execution_count": 54,
   "metadata": {},
   "outputs": [],
   "source": [
    "# Train/test split. \n",
    "train_sales_data, test_sales_data = my_final_data_indexed.randomSplit([0.9,0.1])"
   ]
  },
  {
   "cell_type": "code",
   "execution_count": 55,
   "metadata": {},
   "outputs": [],
   "source": [
    "# Note pipeline. Call it as you would call a machine learning object.\n",
    "fit_model = pipeline.fit(train_sales_data)"
   ]
  },
  {
   "cell_type": "code",
   "execution_count": 56,
   "metadata": {},
   "outputs": [],
   "source": [
    "# Transform test data. \n",
    "results = fit_model.transform(test_sales_data)"
   ]
  },
  {
   "cell_type": "code",
   "execution_count": 57,
   "metadata": {},
   "outputs": [],
   "source": [
    "# Evaluate the model using the binary classifer.\n",
    "from pyspark.ml.evaluation import BinaryClassificationEvaluator\n",
    "\n",
    "my_eval = BinaryClassificationEvaluator(rawPredictionCol='prediction',\n",
    "                                       labelCol='Satisfaction_Index')"
   ]
  },
  {
   "cell_type": "code",
   "execution_count": 58,
   "metadata": {
    "scrolled": false
   },
   "outputs": [
    {
     "name": "stdout",
     "output_type": "stream",
     "text": [
      "+------------------+----------+\n",
      "|Satisfaction_Index|prediction|\n",
      "+------------------+----------+\n",
      "|               0.0|       0.0|\n",
      "|               0.0|       0.0|\n",
      "|               0.0|       0.0|\n",
      "|               0.0|       0.0|\n",
      "|               0.0|       0.0|\n",
      "|               0.0|       0.0|\n",
      "|               0.0|       0.0|\n",
      "|               0.0|       0.0|\n",
      "|               0.0|       0.0|\n",
      "|               0.0|       0.0|\n",
      "|               0.0|       0.0|\n",
      "|               0.0|       0.0|\n",
      "|               0.0|       0.0|\n",
      "|               0.0|       0.0|\n",
      "|               0.0|       0.0|\n",
      "|               0.0|       0.0|\n",
      "|               0.0|       0.0|\n",
      "|               0.0|       0.0|\n",
      "|               0.0|       0.0|\n",
      "|               0.0|       0.0|\n",
      "+------------------+----------+\n",
      "only showing top 20 rows\n",
      "\n"
     ]
    }
   ],
   "source": [
    "results.select('Satisfaction_Index','prediction').show()"
   ]
  },
  {
   "cell_type": "code",
   "execution_count": 66,
   "metadata": {},
   "outputs": [
    {
     "ename": "AttributeError",
     "evalue": "'StringIndexerModel' object has no attribute 'summary'",
     "output_type": "error",
     "traceback": [
      "\u001b[0;31m---------------------------------------------------------------------------\u001b[0m",
      "\u001b[0;31mAttributeError\u001b[0m                            Traceback (most recent call last)",
      "\u001b[0;32m<ipython-input-66-e2fa6184af0a>\u001b[0m in \u001b[0;36m<module>\u001b[0;34m()\u001b[0m\n\u001b[0;32m----> 1\u001b[0;31m \u001b[0mfit_model\u001b[0m\u001b[0;34m.\u001b[0m\u001b[0mstages\u001b[0m\u001b[0;34m[\u001b[0m\u001b[0;34m-\u001b[0m\u001b[0;36m10\u001b[0m\u001b[0;34m]\u001b[0m\u001b[0;34m.\u001b[0m\u001b[0msummary\u001b[0m\u001b[0;34m\u001b[0m\u001b[0;34m\u001b[0m\u001b[0m\n\u001b[0m",
      "\u001b[0;31mAttributeError\u001b[0m: 'StringIndexerModel' object has no attribute 'summary'"
     ]
    }
   ],
   "source": [
    "fit_model.stages[-10].summary\n"
   ]
  },
  {
   "cell_type": "code",
   "execution_count": 59,
   "metadata": {},
   "outputs": [
    {
     "name": "stdout",
     "output_type": "stream",
     "text": [
      "AUC(90% Training & 10% Testing) =  0.9918242467405997\n"
     ]
    }
   ],
   "source": [
    "# We can then evaluate using AUC (area under the curve). AUC is linked to ROC.\n",
    "\n",
    "AUC = my_eval.evaluate(results)\n",
    "\n",
    "print(\"AUC(90% Training & 10% Testing) = \",AUC)\n",
    "\n"
   ]
  },
  {
   "cell_type": "code",
   "execution_count": 60,
   "metadata": {},
   "outputs": [
    {
     "data": {
      "image/png": "[encoded data removed]",
      "text/plain": [
       "<Figure size 432x288 with 1 Axes>"
      ]
     },
     "metadata": {},
     "output_type": "display_data"
    }
   ],
   "source": [
    "# Import the relevant Python libraries.\n",
    "import numpy as np\n",
    "import matplotlib.pyplot as plt\n",
    "%matplotlib inline\n",
    "\n",
    "# Convert sex to an array using Numpy and plot it using pyplot. \n",
    "SatisfactionArr = np.array(data.select('Satisfaction').collect())\n",
    "plt.hist(SatisfactionArr)\n",
    "plt.show()"
   ]
  },
  {
   "cell_type": "code",
   "execution_count": 61,
   "metadata": {},
   "outputs": [
    {
     "name": "stdout",
     "output_type": "stream",
     "text": [
      "Correct: 4072\n",
      "Total Correct: 4060\n"
     ]
    }
   ],
   "source": [
    "#Performance Evaluation\n",
    "totalResults = results.select('Satisfaction_Index','prediction')\n",
    "\n",
    "correctResults = totalResults.filter(totalResults['Satisfaction_Index'] == totalResults['prediction'])\n",
    "\n",
    "countTR = totalResults.count()\n",
    "print(\"Correct: \" + str(countTR))\n",
    "\n",
    "countTC = correctResults.count()\n",
    "print(\"Total Correct: \" + str(countTC)) "
   ]
  }
 ],
 "metadata": {
  "kernelspec": {
   "display_name": "Python 3",
   "language": "python",
   "name": "python3"
  },
  "language_info": {
   "codemirror_mode": {
    "name": "ipython",
    "version": 3
   },
   "file_extension": ".py",
   "mimetype": "text/x-python",
   "name": "python",
   "nbconvert_exporter": "python",
   "pygments_lexer": "ipython3",
   "version": "3.6.9"
  }
 },
 "nbformat": 4,
 "nbformat_minor": 2
}
