{
 "cells": [
  {
   "cell_type": "code",
   "execution_count": 3,
   "metadata": {},
   "outputs": [],
   "source": [
    "# Must be included at the beginning of each new notebook. Remember to change the app name.\n",
    "import findspark\n",
    "findspark.init('/home/user/spark-2.1.1-bin-hadoop2.7')\n",
    "import pyspark\n",
    "from pyspark.sql import *\n",
    "spark = SparkSession.builder.appName('logistic_regression_adv_lche329_RFT').getOrCreate()\n",
    "\n",
    "# If you're getting an error with numpy, please type 'sudo pip install numpy --user' into the EC2 console.\n",
    "from pyspark.ml.classification import LogisticRegression"
   ]
  },
  {
   "cell_type": "code",
   "execution_count": 4,
   "metadata": {},
   "outputs": [],
   "source": [
    "# Read in the CSV data.\n",
    "data = spark.read.load('./Sales_data/sales_en.csv',format='csv',header='true',inferSchema = True)"
   ]
  },
  {
   "cell_type": "code",
   "execution_count": 5,
   "metadata": {},
   "outputs": [
    {
     "name": "stdout",
     "output_type": "stream",
     "text": [
      "root\n",
      " |-- ID: integer (nullable = true)\n",
      " |-- Year: integer (nullable = true)\n",
      " |-- Product Name: string (nullable = true)\n",
      " |-- Unit: string (nullable = true)\n",
      " |-- Region: string (nullable = true)\n",
      " |-- Sales Representative: string (nullable = true)\n",
      " |-- Hospital Name: string (nullable = true)\n",
      " |-- Hospital Attribute: string (nullable = true)\n",
      " |-- Hospital Code: string (nullable = true)\n",
      " |-- Purchasing Price: double (nullable = true)\n",
      " |-- Selling Price: double (nullable = true)\n",
      " |-- IMF: string (nullable = true)\n",
      " |-- Hospital Class: string (nullable = true)\n",
      " |-- Department: string (nullable = true)\n",
      " |-- Client Name: string (nullable = true)\n",
      " |-- Sales Volume: double (nullable = true)\n",
      " |-- Profits: double (nullable = true)\n",
      " |-- Satisfaction: string (nullable = true)\n",
      "\n"
     ]
    },
    {
     "data": {
      "text/plain": [
       "['ID',\n",
       " 'Year',\n",
       " 'Product Name',\n",
       " 'Unit',\n",
       " 'Region',\n",
       " 'Sales Representative',\n",
       " 'Hospital Name',\n",
       " 'Hospital Attribute',\n",
       " 'Hospital Code',\n",
       " 'Purchasing Price',\n",
       " 'Selling Price',\n",
       " 'IMF',\n",
       " 'Hospital Class',\n",
       " 'Department',\n",
       " 'Client Name',\n",
       " 'Sales Volume',\n",
       " 'Profits',\n",
       " 'Satisfaction']"
      ]
     },
     "execution_count": 5,
     "metadata": {},
     "output_type": "execute_result"
    }
   ],
   "source": [
    "# Print data schema.\n",
    "data.printSchema()\n",
    "\n",
    "# Print data columns.\n",
    "data.columns"
   ]
  },
  {
   "cell_type": "code",
   "execution_count": 6,
   "metadata": {},
   "outputs": [
    {
     "data": {
      "text/plain": [
       "Satisfaction            0\n",
       "Sales Representative    0\n",
       "Hospital Attribute      0\n",
       "Selling Price           0\n",
       "Hospital Class          0\n",
       "Department              0\n",
       "Sales Volume            0\n",
       "dtype: int64"
      ]
     },
     "execution_count": 6,
     "metadata": {},
     "output_type": "execute_result"
    }
   ],
   "source": [
    "# Select a list of relevant columns. \n",
    "# Profits, for example, should not be celected\n",
    "# As the target 'Satisfaction' derives from 'Profits'\n",
    "my_cols = data.select(['Satisfaction',\n",
    " 'Sales Representative',\n",
    " 'Hospital Attribute',\n",
    " 'Selling Price',\n",
    " 'Hospital Class',\n",
    " 'Department',\n",
    " 'Sales Volume'])\n",
    "my_cols.toPandas().isnull().sum()"
   ]
  },
  {
   "cell_type": "code",
   "execution_count": 7,
   "metadata": {},
   "outputs": [],
   "source": [
    "my_final_data = my_cols"
   ]
  },
  {
   "cell_type": "code",
   "execution_count": 8,
   "metadata": {},
   "outputs": [],
   "source": [
    "from pyspark.ml.feature import (VectorAssembler,VectorIndexer,\n",
    "                                OneHotEncoder,StringIndexer)"
   ]
  },
  {
   "cell_type": "code",
   "execution_count": 9,
   "metadata": {},
   "outputs": [],
   "source": [
    "# First create a string indexer (convert every string into a number, such as male = 0 and female = 1).\n",
    "# A number will be assigned to every category in the column.\n",
    "Sales_Representative_indexer = StringIndexer(inputCol='Sales Representative',outputCol='Sales_Representative_Index')\n",
    "\n",
    "# Now we can one hot encode these numbers. This converts the various outputs into a single vector.\n",
    "# This makes it easier to process when you have multiple classes.\n",
    "Sales_Representative_encoder = OneHotEncoder(inputCol='Sales_Representative_Index',outputCol='Sales_Representative_Vec')"
   ]
  },
  {
   "cell_type": "code",
   "execution_count": 10,
   "metadata": {},
   "outputs": [],
   "source": [
    "Hospital_Attribute_indexer = StringIndexer(inputCol='Hospital Attribute',outputCol='Hospital_Attribute_Index')\n",
    "Hospital_Attribute_encoder = OneHotEncoder(inputCol='Hospital_Attribute_Index',outputCol='Hospital_Attribute_Vec')"
   ]
  },
  {
   "cell_type": "code",
   "execution_count": 11,
   "metadata": {},
   "outputs": [],
   "source": [
    "Hospital_Class_indexer = StringIndexer(inputCol='Hospital Class',outputCol='Hospital_Class_Index')\n",
    "Hospital_Class_encoder = OneHotEncoder(inputCol='Hospital_Class_Index',outputCol='Hospital_Class_Vec')"
   ]
  },
  {
   "cell_type": "code",
   "execution_count": 12,
   "metadata": {},
   "outputs": [],
   "source": [
    "Department_indexer = StringIndexer(inputCol='Department',outputCol='Department_Index')\n",
    "Department_encoder = OneHotEncoder(inputCol='Department_Index',outputCol='Department_Vec')"
   ]
  },
  {
   "cell_type": "code",
   "execution_count": 13,
   "metadata": {},
   "outputs": [
    {
     "name": "stdout",
     "output_type": "stream",
     "text": [
      "root\n",
      " |-- Satisfaction: string (nullable = true)\n",
      " |-- Sales Representative: string (nullable = true)\n",
      " |-- Hospital Attribute: string (nullable = true)\n",
      " |-- Selling Price: double (nullable = true)\n",
      " |-- Hospital Class: string (nullable = true)\n",
      " |-- Department: string (nullable = true)\n",
      " |-- Sales Volume: double (nullable = true)\n",
      " |-- Satisfaction_Index: double (nullable = true)\n",
      "\n"
     ]
    },
    {
     "data": {
      "text/plain": [
       "0        1.0\n",
       "1        1.0\n",
       "2        1.0\n",
       "3        1.0\n",
       "4        1.0\n",
       "5        1.0\n",
       "6        1.0\n",
       "7        1.0\n",
       "8        1.0\n",
       "9        1.0\n",
       "10       1.0\n",
       "11       0.0\n",
       "12       0.0\n",
       "13       0.0\n",
       "14       1.0\n",
       "15       0.0\n",
       "16       1.0\n",
       "17       1.0\n",
       "18       0.0\n",
       "19       0.0\n",
       "20       0.0\n",
       "21       0.0\n",
       "22       1.0\n",
       "23       0.0\n",
       "24       0.0\n",
       "25       0.0\n",
       "26       0.0\n",
       "27       0.0\n",
       "28       0.0\n",
       "29       0.0\n",
       "        ... \n",
       "40255    0.0\n",
       "40256    0.0\n",
       "40257    0.0\n",
       "40258    0.0\n",
       "40259    0.0\n",
       "40260    0.0\n",
       "40261    0.0\n",
       "40262    0.0\n",
       "40263    0.0\n",
       "40264    0.0\n",
       "40265    0.0\n",
       "40266    0.0\n",
       "40267    0.0\n",
       "40268    1.0\n",
       "40269    0.0\n",
       "40270    0.0\n",
       "40271    0.0\n",
       "40272    0.0\n",
       "40273    0.0\n",
       "40274    0.0\n",
       "40275    0.0\n",
       "40276    0.0\n",
       "40277    0.0\n",
       "40278    0.0\n",
       "40279    0.0\n",
       "40280    0.0\n",
       "40281    0.0\n",
       "40282    0.0\n",
       "40283    0.0\n",
       "40284    0.0\n",
       "Name: Satisfaction_Index, Length: 40285, dtype: float64"
      ]
     },
     "execution_count": 13,
     "metadata": {},
     "output_type": "execute_result"
    }
   ],
   "source": [
    "Satisfaction_indexer = StringIndexer(inputCol='Satisfaction',outputCol='Satisfaction_Index')\n",
    "#Satisfaction_encoder = OneHotEncoder(inputCol='Satisfaction_Index',outputCol='Satisfaction_Vec')\n",
    "my_final_data_indexed = Satisfaction_indexer.fit(my_final_data).transform(my_final_data)\n",
    "my_final_data_indexed.printSchema()\n",
    "my_final_data_indexed.toPandas()['Satisfaction_Index']"
   ]
  },
  {
   "cell_type": "code",
   "execution_count": 14,
   "metadata": {},
   "outputs": [],
   "source": [
    "# Now we can assemble all of this as one vector in the features column.\n",
    "assembler = VectorAssembler(inputCols=['Sales_Representative_Vec',\n",
    " 'Hospital_Attribute_Vec',\n",
    " 'Selling Price',\n",
    " 'Hospital_Class_Vec',\n",
    " 'Department_Vec',\n",
    " 'Sales Volume'],outputCol='features')"
   ]
  },
  {
   "cell_type": "code",
   "execution_count": 15,
   "metadata": {},
   "outputs": [],
   "source": [
    "#from pyspark.ml.classification import LogisticRegression\n",
    "#from pyspark.ml.classification import DecisionTreeClassifier\n",
    "#from pyspark.ml.classification import GBTClassifier\n",
    "from pyspark.ml.classification import RandomForestClassifier"
   ]
  },
  {
   "cell_type": "code",
   "execution_count": 16,
   "metadata": {},
   "outputs": [],
   "source": [
    "from pyspark.ml import Pipeline"
   ]
  },
  {
   "cell_type": "code",
   "execution_count": 17,
   "metadata": {},
   "outputs": [],
   "source": [
    "#log_reg_sales = LogisticRegression(featuresCol='features',labelCol='Satisfaction_Index')\n",
    "#log_reg_sales = DecisionTreeClassifier(featuresCol='features',labelCol='Satisfaction_Index')\n",
    "#log_reg_sales = GBTClassifier(featuresCol='features',labelCol='Satisfaction_Index')\n",
    "log_reg_sales = RandomForestClassifier(featuresCol='features',labelCol='Satisfaction_Index')"
   ]
  },
  {
   "cell_type": "code",
   "execution_count": 18,
   "metadata": {},
   "outputs": [],
   "source": [
    "# Lists everything we want to do. Index data, encode data, assemble data and then pass in the actual model.\n",
    "pipeline = Pipeline(stages=[Sales_Representative_indexer,Hospital_Attribute_indexer,Hospital_Class_indexer,Department_indexer,\n",
    "                           Sales_Representative_encoder,Hospital_Attribute_encoder,Hospital_Class_encoder,Department_encoder,\n",
    "                           assembler,log_reg_sales])"
   ]
  },
  {
   "cell_type": "code",
   "execution_count": 19,
   "metadata": {},
   "outputs": [],
   "source": [
    "# Train/test split. \n",
    "train_sales_data, test_sales_data = my_final_data_indexed.randomSplit([0.7,0.3])"
   ]
  },
  {
   "cell_type": "code",
   "execution_count": 20,
   "metadata": {},
   "outputs": [],
   "source": [
    "# Note pipeline. Call it as you would call a machine learning object.\n",
    "fit_model = pipeline.fit(train_sales_data)"
   ]
  },
  {
   "cell_type": "code",
   "execution_count": 21,
   "metadata": {},
   "outputs": [],
   "source": [
    "# Transform test data. \n",
    "results = fit_model.transform(test_sales_data)"
   ]
  },
  {
   "cell_type": "code",
   "execution_count": 22,
   "metadata": {},
   "outputs": [],
   "source": [
    "# Evaluate the model using the binary classifer.\n",
    "from pyspark.ml.evaluation import BinaryClassificationEvaluator\n",
    "\n",
    "my_eval = BinaryClassificationEvaluator(rawPredictionCol='prediction',\n",
    "                                       labelCol='Satisfaction_Index')"
   ]
  },
  {
   "cell_type": "code",
   "execution_count": 23,
   "metadata": {},
   "outputs": [
    {
     "name": "stdout",
     "output_type": "stream",
     "text": [
      "+------------------+----------+\n",
      "|Satisfaction_Index|prediction|\n",
      "+------------------+----------+\n",
      "|               0.0|       0.0|\n",
      "|               0.0|       0.0|\n",
      "|               0.0|       0.0|\n",
      "|               0.0|       0.0|\n",
      "|               0.0|       0.0|\n",
      "|               0.0|       0.0|\n",
      "|               0.0|       0.0|\n",
      "|               0.0|       0.0|\n",
      "|               0.0|       0.0|\n",
      "|               0.0|       0.0|\n",
      "|               0.0|       0.0|\n",
      "|               0.0|       0.0|\n",
      "|               0.0|       0.0|\n",
      "|               0.0|       0.0|\n",
      "|               0.0|       0.0|\n",
      "|               0.0|       0.0|\n",
      "|               0.0|       0.0|\n",
      "|               0.0|       0.0|\n",
      "|               0.0|       0.0|\n",
      "|               0.0|       0.0|\n",
      "+------------------+----------+\n",
      "only showing top 20 rows\n",
      "\n"
     ]
    }
   ],
   "source": [
    "results.select('Satisfaction_Index','prediction').show()"
   ]
  },
  {
   "cell_type": "code",
   "execution_count": 27,
   "metadata": {},
   "outputs": [
    {
     "name": "stdout",
     "output_type": "stream",
     "text": [
      "AUC(70% Training & 30% Testing) =  0.5\n"
     ]
    }
   ],
   "source": [
    "# We can then evaluate using AUC (area under the curve). AUC is linked to ROC.\n",
    "AUC = my_eval.evaluate(results)\n",
    "\n",
    "print(\"AUC(70% Training & 30% Testing) = \",AUC)\n",
    "\n"
   ]
  },
  {
   "cell_type": "code",
   "execution_count": 76,
   "metadata": {},
   "outputs": [
    {
     "data": {
      "image/png": "[encoded data removed]",
      "text/plain": [
       "<Figure size 432x288 with 1 Axes>"
      ]
     },
     "metadata": {},
     "output_type": "display_data"
    }
   ],
   "source": [
    "# Import the relevant Python libraries.\n",
    "import numpy as np\n",
    "import matplotlib.pyplot as plt\n",
    "%matplotlib inline\n",
    "\n",
    "# Convert ‘Satisfaction’ to an array using Numpy and plot it using pyplot. \n",
    "SatisfactionArr = np.array(data.select('Satisfaction').collect())\n",
    "plt.hist(SatisfactionArr)\n",
    "plt.show()"
   ]
  },
  {
   "cell_type": "code",
   "execution_count": 28,
   "metadata": {},
   "outputs": [
    {
     "name": "stdout",
     "output_type": "stream",
     "text": [
      "Correct: 11986\n",
      "Total Correct: 11384\n"
     ]
    }
   ],
   "source": [
    "#Performance Evaluation\n",
    "totalResults = results.select('Satisfaction_Index','prediction')\n",
    "\n",
    "correctResults = totalResults.filter(totalResults['Satisfaction_Index'] == totalResults['prediction'])\n",
    "\n",
    "countTR = totalResults.count()\n",
    "print(\"Correct: \" + str(countTR))\n",
    "\n",
    "countTC = correctResults.count()\n",
    "print(\"Total Correct: \" + str(countTC)) "
   ]
  }
 ],
 "metadata": {
  "kernelspec": {
   "display_name": "Python 3",
   "language": "python",
   "name": "python3"
  },
  "language_info": {
   "codemirror_mode": {
    "name": "ipython",
    "version": 3
   },
   "file_extension": ".py",
   "mimetype": "text/x-python",
   "name": "python",
   "nbconvert_exporter": "python",
   "pygments_lexer": "ipython3",
   "version": "3.6.9"
  }
 },
 "nbformat": 4,
 "nbformat_minor": 2
}
