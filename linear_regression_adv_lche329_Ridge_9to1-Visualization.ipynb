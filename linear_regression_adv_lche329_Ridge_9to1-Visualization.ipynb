{
 "cells": [
  {
   "cell_type": "code",
   "execution_count": 2,
   "metadata": {},
   "outputs": [],
   "source": [
    "# Must be included at the beginning of each new notebook. Remember to change the app name.\n",
    "import findspark\n",
    "findspark.init('/home/user/spark-2.1.1-bin-hadoop2.7')\n",
    "import pyspark\n",
    "from pyspark.sql import SparkSession\n",
    "spark = SparkSession.builder.appName('linear_regression_adv_lche329_ridge_9to1_VZ').getOrCreate()\n",
    "\n",
    "# If you're getting an error with numpy, please type 'sudo pip install numpy --user' into the EC2 console.\n",
    "from pyspark.ml.regression import LinearRegression"
   ]
  },
  {
   "cell_type": "code",
   "execution_count": 3,
   "metadata": {},
   "outputs": [],
   "source": [
    "df = spark.read.load('./Sales_data/sales_en.csv',format='csv',header='true',inferSchema = True)"
   ]
  },
  {
   "cell_type": "code",
   "execution_count": 4,
   "metadata": {
    "scrolled": true
   },
   "outputs": [
    {
     "name": "stdout",
     "output_type": "stream",
     "text": [
      "root\n",
      " |-- ID: integer (nullable = true)\n",
      " |-- Year: integer (nullable = true)\n",
      " |-- Product Name: string (nullable = true)\n",
      " |-- Unit: string (nullable = true)\n",
      " |-- Region: string (nullable = true)\n",
      " |-- Sales Representative: string (nullable = true)\n",
      " |-- Hospital Name: string (nullable = true)\n",
      " |-- Hospital Attribute: string (nullable = true)\n",
      " |-- Hospital Code: string (nullable = true)\n",
      " |-- Purchasing Price: double (nullable = true)\n",
      " |-- Selling Price: double (nullable = true)\n",
      " |-- IMF: string (nullable = true)\n",
      " |-- Hospital Class: string (nullable = true)\n",
      " |-- Department: string (nullable = true)\n",
      " |-- Client Name: string (nullable = true)\n",
      " |-- Sales Volume: double (nullable = true)\n",
      " |-- Profits: double (nullable = true)\n",
      " |-- Satisfaction: string (nullable = true)\n",
      "\n"
     ]
    }
   ],
   "source": [
    "# Print the schema of the DataFrame. You can see potential features as well as the predictor.\n",
    "df.printSchema()"
   ]
  },
  {
   "cell_type": "code",
   "execution_count": 5,
   "metadata": {},
   "outputs": [
    {
     "data": {
      "text/plain": [
       "Row(ID=1, Year=2016, Product Name='Corbrin Capsule', Unit='Dept. 2', Region='Wuhan', Sales Representative='Xiongting', Hospital Name='Huazhongkejidaxuetongjiyixueyuanfushuxieheyiyuan', Hospital Attribute='Ministerial hospital', Hospital Code='ADXH', Purchasing Price=47.14, Selling Price=63.14, IMF='1571181790', Hospital Class='Third Class', Department='Shenneike', Client Name='Denganguo', Sales Volume=236.0, Profits=3776.0, Satisfaction='Y')"
      ]
     },
     "execution_count": 5,
     "metadata": {},
     "output_type": "execute_result"
    }
   ],
   "source": [
    "df.head()"
   ]
  },
  {
   "cell_type": "code",
   "execution_count": 5,
   "metadata": {},
   "outputs": [
    {
     "name": "stdout",
     "output_type": "stream",
     "text": [
      "1\n",
      "2016\n",
      "Corbrin Capsule\n",
      "Dept. 2\n",
      "Wuhan\n",
      "Xiongting\n",
      "Huazhongkejidaxuetongjiyixueyuanfushuxieheyiyuan\n",
      "Ministerial hospital\n",
      "ADXH\n",
      "47.14\n",
      "63.14\n",
      "1571181790\n",
      "Third Class\n",
      "Shenneike\n",
      "Denganguo\n",
      "236.0\n",
      "3776.0\n",
      "Y\n"
     ]
    }
   ],
   "source": [
    "# A simple for loop allows us to make it even clearer. \n",
    "for item in df.head():\n",
    "    print(item)"
   ]
  },
  {
   "cell_type": "code",
   "execution_count": 6,
   "metadata": {},
   "outputs": [],
   "source": [
    "# Import VectorAssembler and Vectors\n",
    "from pyspark.ml.linalg import Vectors\n",
    "from pyspark.ml.feature import VectorAssembler"
   ]
  },
  {
   "cell_type": "code",
   "execution_count": 7,
   "metadata": {},
   "outputs": [],
   "source": [
    "# The input columns are the feature column names, and the output column is what you'd like the new column to be named. \n",
    "assembler = VectorAssembler(\n",
    "    inputCols=[\"Sales Representative\", \"Hospital Attribute\", \n",
    "               \"Selling Price\",\"Hospital Class\",\"Department\",\"Sales Volume\"],\n",
    "    outputCol=\"features\")"
   ]
  },
  {
   "cell_type": "code",
   "execution_count": 8,
   "metadata": {},
   "outputs": [],
   "source": [
    "from pyspark.ml.feature import StringIndexer\n",
    "\n",
    "indexer = StringIndexer(inputCol=\"Sales Representative\", outputCol=\"Sales_Representative_Index\")\n",
    "df_indexed = indexer.fit(df).transform(df)\n",
    "indexer = StringIndexer(inputCol=\"Hospital Attribute\", outputCol=\"Hospital_Attribute_Index\")\n",
    "df_indexed = indexer.fit(df_indexed).transform(df_indexed)\n",
    "indexer = StringIndexer(inputCol=\"Hospital Class\", outputCol=\"Hospital_Class_Index\")\n",
    "df_indexed = indexer.fit(df_indexed).transform(df_indexed)\n",
    "indexer = StringIndexer(inputCol=\"Department\", outputCol=\"Department_Index\")\n",
    "df_indexed = indexer.fit(df_indexed).transform(df_indexed)\n",
    "\n"
   ]
  },
  {
   "cell_type": "code",
   "execution_count": 9,
   "metadata": {},
   "outputs": [
    {
     "name": "stdout",
     "output_type": "stream",
     "text": [
      "root\n",
      " |-- ID: integer (nullable = true)\n",
      " |-- Year: integer (nullable = true)\n",
      " |-- Product Name: string (nullable = true)\n",
      " |-- Unit: string (nullable = true)\n",
      " |-- Region: string (nullable = true)\n",
      " |-- Sales Representative: string (nullable = true)\n",
      " |-- Hospital Name: string (nullable = true)\n",
      " |-- Hospital Attribute: string (nullable = true)\n",
      " |-- Hospital Code: string (nullable = true)\n",
      " |-- Purchasing Price: double (nullable = true)\n",
      " |-- Selling Price: double (nullable = true)\n",
      " |-- IMF: string (nullable = true)\n",
      " |-- Hospital Class: string (nullable = true)\n",
      " |-- Department: string (nullable = true)\n",
      " |-- Client Name: string (nullable = true)\n",
      " |-- Sales Volume: double (nullable = true)\n",
      " |-- Profits: double (nullable = true)\n",
      " |-- Satisfaction: string (nullable = true)\n",
      " |-- Sales_Representative_Index: double (nullable = true)\n",
      " |-- Hospital_Attribute_Index: double (nullable = true)\n",
      " |-- Hospital_Class_Index: double (nullable = true)\n",
      " |-- Department_Index: double (nullable = true)\n",
      "\n"
     ]
    }
   ],
   "source": [
    "df_indexed.printSchema()"
   ]
  },
  {
   "cell_type": "code",
   "execution_count": 10,
   "metadata": {},
   "outputs": [],
   "source": [
    "# The input columns are the feature column names, and the output column is what you'd like the new column to be named. \n",
    "assembler = VectorAssembler(\n",
    "    inputCols=[\"Sales_Representative_Index\", \"Hospital_Attribute_Index\", \n",
    "               \"Selling Price\",\"Hospital_Class_Index\",\"Department_Index\",\"Sales Volume\"],\n",
    "    outputCol=\"features\")"
   ]
  },
  {
   "cell_type": "code",
   "execution_count": 11,
   "metadata": {},
   "outputs": [],
   "source": [
    "# Now that we've created the assembler variable, let's actually transform the data.\n",
    "output = assembler.transform(df_indexed)"
   ]
  },
  {
   "cell_type": "code",
   "execution_count": 12,
   "metadata": {},
   "outputs": [
    {
     "name": "stdout",
     "output_type": "stream",
     "text": [
      "root\n",
      " |-- ID: integer (nullable = true)\n",
      " |-- Year: integer (nullable = true)\n",
      " |-- Product Name: string (nullable = true)\n",
      " |-- Unit: string (nullable = true)\n",
      " |-- Region: string (nullable = true)\n",
      " |-- Sales Representative: string (nullable = true)\n",
      " |-- Hospital Name: string (nullable = true)\n",
      " |-- Hospital Attribute: string (nullable = true)\n",
      " |-- Hospital Code: string (nullable = true)\n",
      " |-- Purchasing Price: double (nullable = true)\n",
      " |-- Selling Price: double (nullable = true)\n",
      " |-- IMF: string (nullable = true)\n",
      " |-- Hospital Class: string (nullable = true)\n",
      " |-- Department: string (nullable = true)\n",
      " |-- Client Name: string (nullable = true)\n",
      " |-- Sales Volume: double (nullable = true)\n",
      " |-- Profits: double (nullable = true)\n",
      " |-- Satisfaction: string (nullable = true)\n",
      " |-- Sales_Representative_Index: double (nullable = true)\n",
      " |-- Hospital_Attribute_Index: double (nullable = true)\n",
      " |-- Hospital_Class_Index: double (nullable = true)\n",
      " |-- Department_Index: double (nullable = true)\n",
      " |-- features: vector (nullable = true)\n",
      "\n"
     ]
    },
    {
     "data": {
      "text/plain": [
       "[Row(ID=1, Year=2016, Product Name='Corbrin Capsule', Unit='Dept. 2', Region='Wuhan', Sales Representative='Xiongting', Hospital Name='Huazhongkejidaxuetongjiyixueyuanfushuxieheyiyuan', Hospital Attribute='Ministerial hospital', Hospital Code='ADXH', Purchasing Price=47.14, Selling Price=63.14, IMF='1571181790', Hospital Class='Third Class', Department='Shenneike', Client Name='Denganguo', Sales Volume=236.0, Profits=3776.0, Satisfaction='Y', Sales_Representative_Index=139.0, Hospital_Attribute_Index=3.0, Hospital_Class_Index=0.0, Department_Index=3.0, features=DenseVector([139.0, 3.0, 63.14, 0.0, 3.0, 236.0]))]"
      ]
     },
     "execution_count": 12,
     "metadata": {},
     "output_type": "execute_result"
    }
   ],
   "source": [
    "# Using print schema, you see that the features output column has been added. \n",
    "output.printSchema()\n",
    "\n",
    "# You can see that the features column is a dense vector that combines the various features as expected.\n",
    "output.head(1)"
   ]
  },
  {
   "cell_type": "code",
   "execution_count": 13,
   "metadata": {},
   "outputs": [
    {
     "name": "stdout",
     "output_type": "stream",
     "text": [
      "+--------------------+-------+\n",
      "|            features|Profits|\n",
      "+--------------------+-------+\n",
      "|[139.0,3.0,63.14,...| 3776.0|\n",
      "|[139.0,3.0,63.14,...| 5072.0|\n",
      "|[139.0,3.0,63.14,...| 4592.0|\n",
      "|[139.0,3.0,63.14,...| 2560.0|\n",
      "|[139.0,3.0,63.14,...| 1920.0|\n",
      "|[139.0,3.0,63.14,...| 1104.0|\n",
      "|[139.0,3.0,63.14,...| 2064.0|\n",
      "|[139.0,3.0,63.14,...| 2752.0|\n",
      "|[139.0,3.0,63.14,...| 3392.0|\n",
      "|[139.0,3.0,63.14,...| 4960.0|\n",
      "|[139.0,3.0,63.14,...| 2448.0|\n",
      "|[139.0,3.0,63.14,...|  288.0|\n",
      "|[139.0,3.0,63.14,...|    0.0|\n",
      "|[139.0,3.0,63.14,...|    0.0|\n",
      "|[139.0,3.0,63.14,...| 3536.0|\n",
      "|[139.0,3.0,63.14,...|    0.0|\n",
      "|[139.0,3.0,63.14,...| 9488.0|\n",
      "|[139.0,3.0,63.14,...|17760.0|\n",
      "|[139.0,3.0,63.14,...|  336.0|\n",
      "|[139.0,3.0,63.14,...|  336.0|\n",
      "+--------------------+-------+\n",
      "only showing top 20 rows\n",
      "\n"
     ]
    }
   ],
   "source": [
    "# Let's select two columns (the feature and predictor).\n",
    "# This is now in the appropriate format to be processed by Spark.\n",
    "final_data = output.select(\"features\",'Profits')\n",
    "final_data.show()"
   ]
  },
  {
   "cell_type": "code",
   "execution_count": 14,
   "metadata": {},
   "outputs": [],
   "source": [
    "# Let's do a randomised 90/10 split. \n",
    "# Remember, you can use other splits depending on how easy/difficult it is to train your model.\n",
    "train_data,test_data = final_data.randomSplit([0.9,0.1])"
   ]
  },
  {
   "cell_type": "code",
   "execution_count": 15,
   "metadata": {
    "scrolled": false
   },
   "outputs": [
    {
     "name": "stdout",
     "output_type": "stream",
     "text": [
      "Training data\n",
      "+-------+------------------+\n",
      "|summary|           Profits|\n",
      "+-------+------------------+\n",
      "|  count|             36220|\n",
      "|   mean|237.00898839317108|\n",
      "| stddev| 929.4122473411547|\n",
      "|    min|           -130.02|\n",
      "|    max|           38656.0|\n",
      "+-------+------------------+\n",
      "\n",
      "Testing data\n",
      "+-------+------------------+\n",
      "|summary|           Profits|\n",
      "+-------+------------------+\n",
      "|  count|              4065|\n",
      "|   mean|214.10491611595813|\n",
      "| stddev| 767.7098920881763|\n",
      "|    min|           -130.02|\n",
      "|    max|           15984.0|\n",
      "+-------+------------------+\n",
      "\n"
     ]
    }
   ],
   "source": [
    "# Let's see our training data.\n",
    "print('Training data')\n",
    "train_data.describe().show()\n",
    "\n",
    "print('Testing data')\n",
    "# And our testing data.\n",
    "test_data.describe().show()"
   ]
  },
  {
   "cell_type": "code",
   "execution_count": 16,
   "metadata": {},
   "outputs": [],
   "source": [
    "#elasticNetParam=0,the trained model reduces to a ridge regression model.\n",
    "lr = LinearRegression(maxIter=10,regParam=0.3,elasticNetParam=0,labelCol='Profits')"
   ]
  },
  {
   "cell_type": "code",
   "execution_count": 17,
   "metadata": {},
   "outputs": [],
   "source": [
    "# Fit the model to the data.\n",
    "lrModel = lr.fit(train_data)"
   ]
  },
  {
   "cell_type": "code",
   "execution_count": 21,
   "metadata": {
    "scrolled": false
   },
   "outputs": [
    {
     "data": {
      "image/png": "[encoded data removed]",
      "text/plain": [
       "<Figure size 432x288 with 1 Axes>"
      ]
     },
     "metadata": {},
     "output_type": "display_data"
    }
   ],
   "source": [
    "import matplotlib.pyplot as plt\n",
    "import numpy as np\n",
    "\n",
    "beta=np.sort(lrModel.coefficients)\n",
    "plt.plot(beta)\n",
    "plt.ylabel('Beta Coefficients')\n",
    "plt.show()"
   ]
  },
  {
   "cell_type": "code",
   "execution_count": 18,
   "metadata": {},
   "outputs": [
    {
     "name": "stdout",
     "output_type": "stream",
     "text": [
      "Coefficients: [0.5865445359576769,5.135295766299486,0.2651315083346176,37.56813939056708,2.9806662321969695,11.652174787698247] Intercept: -76.76493296591603\n"
     ]
    }
   ],
   "source": [
    "# Print the coefficients and intercept for linear regression.\n",
    "print(\"Coefficients: {} Intercept: {}\".format(lrModel.coefficients,lrModel.intercept))"
   ]
  },
  {
   "cell_type": "code",
   "execution_count": 19,
   "metadata": {},
   "outputs": [],
   "source": [
    "# Let's evaluate the model against the test data.\n",
    "test_results = lrModel.evaluate(test_data)"
   ]
  },
  {
   "cell_type": "code",
   "execution_count": 26,
   "metadata": {},
   "outputs": [
    {
     "name": "stdout",
     "output_type": "stream",
     "text": [
      "+-------------------+\n",
      "|          residuals|\n",
      "+-------------------+\n",
      "|  58.85144045775292|\n",
      "|  58.85144045775292|\n",
      "|  50.05327241838777|\n",
      "|  44.36882359927051|\n",
      "|  36.84174007765073|\n",
      "|  34.80311448348817|\n",
      "| 27.193678421184735|\n",
      "| 23.895442457502092|\n",
      "| 14.553047711258998|\n",
      "|   5.47588768560432|\n",
      "|   5.47588768560432|\n",
      "|-3.9088248897185025|\n",
      "|-3.9088248897185025|\n",
      "|-3.9088248897185025|\n",
      "|-3.9088248897185025|\n",
      "|  5.491530590750699|\n",
      "| -0.960459304783754|\n",
      "|  -42.5704500109516|\n",
      "|-169.11890501962023|\n",
      "|-239.74610144432341|\n",
      "+-------------------+\n",
      "only showing top 20 rows\n",
      "\n",
      "RSME_Ridge: 446.9199748604489\n"
     ]
    }
   ],
   "source": [
    "# Interesting results! This shows the difference between the predicted value and the test data.\n",
    "test_results.residuals.show()\n",
    "\n",
    "# Let's get some evaluation metrics (as discussed in the previous linear regression notebook).\n",
    "print(\"RSME_Ridge: {}\".format(test_results.rootMeanSquaredError))"
   ]
  },
  {
   "cell_type": "code",
   "execution_count": 21,
   "metadata": {},
   "outputs": [
    {
     "name": "stdout",
     "output_type": "stream",
     "text": [
      "R2_Ridge: 0.7085284109030074\n"
     ]
    }
   ],
   "source": [
    "# We can also get the R2 value. \n",
    "print(\"R2_Ridge: {}\".format(test_results.r2))"
   ]
  },
  {
   "cell_type": "code",
   "execution_count": 22,
   "metadata": {},
   "outputs": [
    {
     "name": "stdout",
     "output_type": "stream",
     "text": [
      "+-------+------------------+\n",
      "|summary|           Profits|\n",
      "+-------+------------------+\n",
      "|  count|             40285|\n",
      "|   mean|234.69782905826548|\n",
      "| stddev| 914.4112274804912|\n",
      "|    min|           -130.02|\n",
      "|    max|           38656.0|\n",
      "+-------+------------------+\n",
      "\n"
     ]
    }
   ],
   "source": [
    "final_data.describe().show()"
   ]
  },
  {
   "cell_type": "code",
   "execution_count": 33,
   "metadata": {},
   "outputs": [],
   "source": [
    "results_w_columns=lrModel.transform(test_data)"
   ]
  },
  {
   "cell_type": "code",
   "execution_count": 36,
   "metadata": {},
   "outputs": [
    {
     "data": {
      "text/plain": [
       "[('features', 'vector'), ('Profits', 'double'), ('prediction', 'double')]"
      ]
     },
     "execution_count": 36,
     "metadata": {},
     "output_type": "execute_result"
    }
   ],
   "source": [
    "results_w_columns.dtypes"
   ]
  },
  {
   "cell_type": "code",
   "execution_count": 38,
   "metadata": {
    "scrolled": false
   },
   "outputs": [
    {
     "data": {
      "text/html": [
       "<div>\n",
       "<style scoped>\n",
       "    .dataframe tbody tr th:only-of-type {\n",
       "        vertical-align: middle;\n",
       "    }\n",
       "\n",
       "    .dataframe tbody tr th {\n",
       "        vertical-align: top;\n",
       "    }\n",
       "\n",
       "    .dataframe thead th {\n",
       "        text-align: right;\n",
       "    }\n",
       "</style>\n",
       "<table border=\"1\" class=\"dataframe\">\n",
       "  <thead>\n",
       "    <tr style=\"text-align: right;\">\n",
       "      <th></th>\n",
       "      <th>features</th>\n",
       "      <th>Profits</th>\n",
       "      <th>prediction</th>\n",
       "    </tr>\n",
       "  </thead>\n",
       "  <tbody>\n",
       "    <tr>\n",
       "      <th>0</th>\n",
       "      <td>(2.0, 0.0, 63.14, 0.0, 0.0, 0.0)</td>\n",
       "      <td>0.00</td>\n",
       "      <td>-58.851440</td>\n",
       "    </tr>\n",
       "    <tr>\n",
       "      <th>1</th>\n",
       "      <td>(2.0, 0.0, 63.14, 0.0, 0.0, 0.0)</td>\n",
       "      <td>0.00</td>\n",
       "      <td>-58.851440</td>\n",
       "    </tr>\n",
       "    <tr>\n",
       "      <th>2</th>\n",
       "      <td>(17.0, 0.0, 63.14, 0.0, 0.0, 0.0)</td>\n",
       "      <td>0.00</td>\n",
       "      <td>-50.053272</td>\n",
       "    </tr>\n",
       "    <tr>\n",
       "      <th>3</th>\n",
       "      <td>(39.0, 0.0, 35.91, 0.0, 0.0, 0.0)</td>\n",
       "      <td>0.00</td>\n",
       "      <td>-44.368824</td>\n",
       "    </tr>\n",
       "    <tr>\n",
       "      <th>4</th>\n",
       "      <td>(39.0, 0.0, 64.3, 0.0, 0.0, 0.0)</td>\n",
       "      <td>0.00</td>\n",
       "      <td>-36.841740</td>\n",
       "    </tr>\n",
       "    <tr>\n",
       "      <th>5</th>\n",
       "      <td>(43.0, 0.0, 63.14, 0.0, 0.0, 0.0)</td>\n",
       "      <td>0.00</td>\n",
       "      <td>-34.803114</td>\n",
       "    </tr>\n",
       "    <tr>\n",
       "      <th>6</th>\n",
       "      <td>(74.0, 0.0, 23.26, 0.0, 0.0, 0.0)</td>\n",
       "      <td>0.00</td>\n",
       "      <td>-27.193678</td>\n",
       "    </tr>\n",
       "    <tr>\n",
       "      <th>7</th>\n",
       "      <td>(74.0, 0.0, 35.7, 0.0, 0.0, 0.0)</td>\n",
       "      <td>0.00</td>\n",
       "      <td>-23.895442</td>\n",
       "    </tr>\n",
       "    <tr>\n",
       "      <th>8</th>\n",
       "      <td>(77.0, 0.0, 64.3, 0.0, 0.0, 0.0)</td>\n",
       "      <td>0.00</td>\n",
       "      <td>-14.553048</td>\n",
       "    </tr>\n",
       "    <tr>\n",
       "      <th>9</th>\n",
       "      <td>(93.0, 0.0, 63.14, 0.0, 0.0, 0.0)</td>\n",
       "      <td>0.00</td>\n",
       "      <td>-5.475888</td>\n",
       "    </tr>\n",
       "    <tr>\n",
       "      <th>10</th>\n",
       "      <td>(93.0, 0.0, 63.14, 0.0, 0.0, 0.0)</td>\n",
       "      <td>0.00</td>\n",
       "      <td>-5.475888</td>\n",
       "    </tr>\n",
       "    <tr>\n",
       "      <th>11</th>\n",
       "      <td>(109.0, 0.0, 63.14, 0.0, 0.0, 0.0)</td>\n",
       "      <td>0.00</td>\n",
       "      <td>3.908825</td>\n",
       "    </tr>\n",
       "    <tr>\n",
       "      <th>12</th>\n",
       "      <td>(109.0, 0.0, 63.14, 0.0, 0.0, 0.0)</td>\n",
       "      <td>0.00</td>\n",
       "      <td>3.908825</td>\n",
       "    </tr>\n",
       "    <tr>\n",
       "      <th>13</th>\n",
       "      <td>(109.0, 0.0, 63.14, 0.0, 0.0, 0.0)</td>\n",
       "      <td>0.00</td>\n",
       "      <td>3.908825</td>\n",
       "    </tr>\n",
       "    <tr>\n",
       "      <th>14</th>\n",
       "      <td>(109.0, 0.0, 63.14, 0.0, 0.0, 0.0)</td>\n",
       "      <td>0.00</td>\n",
       "      <td>3.908825</td>\n",
       "    </tr>\n",
       "    <tr>\n",
       "      <th>15</th>\n",
       "      <td>(111.0, 0.0, 23.26, 0.0, 0.0, 0.0)</td>\n",
       "      <td>0.00</td>\n",
       "      <td>-5.491531</td>\n",
       "    </tr>\n",
       "    <tr>\n",
       "      <th>16</th>\n",
       "      <td>(122.0, 0.0, 23.26, 0.0, 0.0, 0.0)</td>\n",
       "      <td>0.00</td>\n",
       "      <td>0.960459</td>\n",
       "    </tr>\n",
       "    <tr>\n",
       "      <th>17</th>\n",
       "      <td>(0.0, 0.0, 303.95, 0.0, 13.0, 0.0)</td>\n",
       "      <td>0.00</td>\n",
       "      <td>42.570450</td>\n",
       "    </tr>\n",
       "    <tr>\n",
       "      <th>18</th>\n",
       "      <td>(0.0, 0.0, 859.95, 0.0, 6.0, 0.0)</td>\n",
       "      <td>0.00</td>\n",
       "      <td>169.118905</td>\n",
       "    </tr>\n",
       "    <tr>\n",
       "      <th>19</th>\n",
       "      <td>(0.0, 0.0, 1047.64, 0.0, 13.0, 0.0)</td>\n",
       "      <td>0.00</td>\n",
       "      <td>239.746101</td>\n",
       "    </tr>\n",
       "    <tr>\n",
       "      <th>20</th>\n",
       "      <td>(0.0, 0.0, 1047.64, 0.0, 13.0, 0.0)</td>\n",
       "      <td>0.00</td>\n",
       "      <td>239.746101</td>\n",
       "    </tr>\n",
       "    <tr>\n",
       "      <th>21</th>\n",
       "      <td>[0.0, 0.0, 303.95, 0.0, 3.0, -1.0]</td>\n",
       "      <td>-12.58</td>\n",
       "      <td>1.111613</td>\n",
       "    </tr>\n",
       "    <tr>\n",
       "      <th>22</th>\n",
       "      <td>[0.0, 0.0, 303.95, 0.0, 3.0, -1.0]</td>\n",
       "      <td>-12.58</td>\n",
       "      <td>1.111613</td>\n",
       "    </tr>\n",
       "    <tr>\n",
       "      <th>23</th>\n",
       "      <td>[0.0, 0.0, 303.95, 0.0, 3.0, 4.0]</td>\n",
       "      <td>50.32</td>\n",
       "      <td>59.372487</td>\n",
       "    </tr>\n",
       "    <tr>\n",
       "      <th>24</th>\n",
       "      <td>[0.0, 0.0, 303.95, 0.0, 12.0, -1.0]</td>\n",
       "      <td>-12.58</td>\n",
       "      <td>27.937609</td>\n",
       "    </tr>\n",
       "    <tr>\n",
       "      <th>25</th>\n",
       "      <td>[0.0, 0.0, 303.95, 0.0, 12.0, 24.0]</td>\n",
       "      <td>301.92</td>\n",
       "      <td>319.241979</td>\n",
       "    </tr>\n",
       "    <tr>\n",
       "      <th>26</th>\n",
       "      <td>[0.0, 0.0, 303.95, 0.0, 13.0, -1.0]</td>\n",
       "      <td>-12.58</td>\n",
       "      <td>30.918275</td>\n",
       "    </tr>\n",
       "    <tr>\n",
       "      <th>27</th>\n",
       "      <td>[0.0, 0.0, 303.95, 0.0, 13.0, -1.0]</td>\n",
       "      <td>-12.58</td>\n",
       "      <td>30.918275</td>\n",
       "    </tr>\n",
       "    <tr>\n",
       "      <th>28</th>\n",
       "      <td>[0.0, 0.0, 303.95, 0.0, 13.0, -1.0]</td>\n",
       "      <td>-12.58</td>\n",
       "      <td>30.918275</td>\n",
       "    </tr>\n",
       "    <tr>\n",
       "      <th>29</th>\n",
       "      <td>[0.0, 0.0, 303.95, 0.0, 13.0, -1.0]</td>\n",
       "      <td>-12.58</td>\n",
       "      <td>30.918275</td>\n",
       "    </tr>\n",
       "    <tr>\n",
       "      <th>...</th>\n",
       "      <td>...</td>\n",
       "      <td>...</td>\n",
       "      <td>...</td>\n",
       "    </tr>\n",
       "    <tr>\n",
       "      <th>4015</th>\n",
       "      <td>[166.0, 0.0, 63.14, 0.0, 1.0, 3.0]</td>\n",
       "      <td>48.00</td>\n",
       "      <td>75.279054</td>\n",
       "    </tr>\n",
       "    <tr>\n",
       "      <th>4016</th>\n",
       "      <td>[166.0, 0.0, 63.14, 0.0, 1.0, 5.0]</td>\n",
       "      <td>80.00</td>\n",
       "      <td>98.583404</td>\n",
       "    </tr>\n",
       "    <tr>\n",
       "      <th>4017</th>\n",
       "      <td>[166.0, 0.0, 63.14, 0.0, 2.0, 4.0]</td>\n",
       "      <td>64.00</td>\n",
       "      <td>89.911895</td>\n",
       "    </tr>\n",
       "    <tr>\n",
       "      <th>4018</th>\n",
       "      <td>[166.0, 0.0, 63.14, 0.0, 8.0, 3.0]</td>\n",
       "      <td>48.00</td>\n",
       "      <td>96.143718</td>\n",
       "    </tr>\n",
       "    <tr>\n",
       "      <th>4019</th>\n",
       "      <td>[166.0, 0.0, 63.14, 0.0, 13.0, 15.0]</td>\n",
       "      <td>240.00</td>\n",
       "      <td>250.873146</td>\n",
       "    </tr>\n",
       "    <tr>\n",
       "      <th>4020</th>\n",
       "      <td>[166.0, 0.0, 63.14, 0.0, 19.0, 7.0]</td>\n",
       "      <td>112.00</td>\n",
       "      <td>175.539745</td>\n",
       "    </tr>\n",
       "    <tr>\n",
       "      <th>4021</th>\n",
       "      <td>[166.0, 4.0, 63.14, 2.0, 0.0, 17.0]</td>\n",
       "      <td>272.00</td>\n",
       "      <td>331.106297</td>\n",
       "    </tr>\n",
       "    <tr>\n",
       "      <th>4022</th>\n",
       "      <td>[166.0, 7.0, 63.14, 3.0, 0.0, 2.0]</td>\n",
       "      <td>32.00</td>\n",
       "      <td>209.297702</td>\n",
       "    </tr>\n",
       "    <tr>\n",
       "      <th>4023</th>\n",
       "      <td>[167.0, 7.0, 64.3, 3.0, 0.0, 0.0]</td>\n",
       "      <td>0.00</td>\n",
       "      <td>186.887449</td>\n",
       "    </tr>\n",
       "    <tr>\n",
       "      <th>4024</th>\n",
       "      <td>[167.0, 7.0, 64.3, 3.0, 0.0, 30.0]</td>\n",
       "      <td>724.80</td>\n",
       "      <td>536.452693</td>\n",
       "    </tr>\n",
       "    <tr>\n",
       "      <th>4025</th>\n",
       "      <td>[168.0, 0.0, 64.3, 0.0, 1.0, 5.0]</td>\n",
       "      <td>120.80</td>\n",
       "      <td>100.064045</td>\n",
       "    </tr>\n",
       "    <tr>\n",
       "      <th>4026</th>\n",
       "      <td>[168.0, 0.0, 64.3, 0.0, 1.0, 5.0]</td>\n",
       "      <td>120.80</td>\n",
       "      <td>100.064045</td>\n",
       "    </tr>\n",
       "    <tr>\n",
       "      <th>4027</th>\n",
       "      <td>[168.0, 0.0, 64.3, 0.0, 3.0, 12.0]</td>\n",
       "      <td>289.92</td>\n",
       "      <td>187.590601</td>\n",
       "    </tr>\n",
       "    <tr>\n",
       "      <th>4028</th>\n",
       "      <td>[168.0, 1.0, 64.3, 1.0, 4.0, 0.0]</td>\n",
       "      <td>0.00</td>\n",
       "      <td>93.448605</td>\n",
       "    </tr>\n",
       "    <tr>\n",
       "      <th>4029</th>\n",
       "      <td>[168.0, 4.0, 64.3, 3.0, 0.0, 0.0]</td>\n",
       "      <td>0.00</td>\n",
       "      <td>172.068106</td>\n",
       "    </tr>\n",
       "    <tr>\n",
       "      <th>4030</th>\n",
       "      <td>[168.0, 4.0, 64.3, 3.0, 0.0, 3.0]</td>\n",
       "      <td>72.48</td>\n",
       "      <td>207.024631</td>\n",
       "    </tr>\n",
       "    <tr>\n",
       "      <th>4031</th>\n",
       "      <td>[168.0, 4.0, 64.3, 3.0, 5.0, 3.0]</td>\n",
       "      <td>72.48</td>\n",
       "      <td>221.927962</td>\n",
       "    </tr>\n",
       "    <tr>\n",
       "      <th>4032</th>\n",
       "      <td>[168.0, 4.0, 64.3, 3.0, 9.0, 1.0]</td>\n",
       "      <td>24.16</td>\n",
       "      <td>210.546277</td>\n",
       "    </tr>\n",
       "    <tr>\n",
       "      <th>4033</th>\n",
       "      <td>[169.0, 6.0, 64.3, 2.0, 0.0, 0.0]</td>\n",
       "      <td>0.00</td>\n",
       "      <td>145.357103</td>\n",
       "    </tr>\n",
       "    <tr>\n",
       "      <th>4034</th>\n",
       "      <td>[169.0, 6.0, 64.3, 2.0, 0.0, 10.0]</td>\n",
       "      <td>241.60</td>\n",
       "      <td>261.878851</td>\n",
       "    </tr>\n",
       "    <tr>\n",
       "      <th>4035</th>\n",
       "      <td>[169.0, 6.0, 64.3, 2.0, 0.0, 13.0]</td>\n",
       "      <td>314.08</td>\n",
       "      <td>296.835375</td>\n",
       "    </tr>\n",
       "    <tr>\n",
       "      <th>4036</th>\n",
       "      <td>[169.0, 7.0, 64.3, 3.0, 0.0, 15.0]</td>\n",
       "      <td>362.40</td>\n",
       "      <td>362.843160</td>\n",
       "    </tr>\n",
       "    <tr>\n",
       "      <th>4037</th>\n",
       "      <td>[170.0, 3.0, 35.7, 0.0, 1.0, 36.0]</td>\n",
       "      <td>29.16</td>\n",
       "      <td>470.277679</td>\n",
       "    </tr>\n",
       "    <tr>\n",
       "      <th>4038</th>\n",
       "      <td>[170.0, 3.0, 35.7, 0.0, 4.0, 14.0]</td>\n",
       "      <td>11.34</td>\n",
       "      <td>222.871832</td>\n",
       "    </tr>\n",
       "    <tr>\n",
       "      <th>4039</th>\n",
       "      <td>[170.0, 3.0, 35.7, 0.0, 18.0, 2.0]</td>\n",
       "      <td>1.62</td>\n",
       "      <td>124.775062</td>\n",
       "    </tr>\n",
       "    <tr>\n",
       "      <th>4040</th>\n",
       "      <td>[172.0, 1.0, 63.14, 1.0, 0.0, 2.0]</td>\n",
       "      <td>32.00</td>\n",
       "      <td>106.868915</td>\n",
       "    </tr>\n",
       "    <tr>\n",
       "      <th>4041</th>\n",
       "      <td>[172.0, 1.0, 63.14, 1.0, 0.0, 3.0]</td>\n",
       "      <td>48.00</td>\n",
       "      <td>118.521090</td>\n",
       "    </tr>\n",
       "    <tr>\n",
       "      <th>4042</th>\n",
       "      <td>[173.0, 1.0, 64.3, 1.0, 2.0, 0.0]</td>\n",
       "      <td>0.00</td>\n",
       "      <td>90.419995</td>\n",
       "    </tr>\n",
       "    <tr>\n",
       "      <th>4043</th>\n",
       "      <td>[174.0, 0.0, 97.76, 0.0, 2.0, 2.0]</td>\n",
       "      <td>22.06</td>\n",
       "      <td>80.478755</td>\n",
       "    </tr>\n",
       "    <tr>\n",
       "      <th>4044</th>\n",
       "      <td>[175.0, 7.0, 63.14, 3.0, 0.0, 0.0]</td>\n",
       "      <td>0.00</td>\n",
       "      <td>191.272253</td>\n",
       "    </tr>\n",
       "  </tbody>\n",
       "</table>\n",
       "<p>4045 rows × 3 columns</p>\n",
       "</div>"
      ],
      "text/plain": [
       "                                  features  Profits  prediction\n",
       "0         (2.0, 0.0, 63.14, 0.0, 0.0, 0.0)     0.00  -58.851440\n",
       "1         (2.0, 0.0, 63.14, 0.0, 0.0, 0.0)     0.00  -58.851440\n",
       "2        (17.0, 0.0, 63.14, 0.0, 0.0, 0.0)     0.00  -50.053272\n",
       "3        (39.0, 0.0, 35.91, 0.0, 0.0, 0.0)     0.00  -44.368824\n",
       "4         (39.0, 0.0, 64.3, 0.0, 0.0, 0.0)     0.00  -36.841740\n",
       "5        (43.0, 0.0, 63.14, 0.0, 0.0, 0.0)     0.00  -34.803114\n",
       "6        (74.0, 0.0, 23.26, 0.0, 0.0, 0.0)     0.00  -27.193678\n",
       "7         (74.0, 0.0, 35.7, 0.0, 0.0, 0.0)     0.00  -23.895442\n",
       "8         (77.0, 0.0, 64.3, 0.0, 0.0, 0.0)     0.00  -14.553048\n",
       "9        (93.0, 0.0, 63.14, 0.0, 0.0, 0.0)     0.00   -5.475888\n",
       "10       (93.0, 0.0, 63.14, 0.0, 0.0, 0.0)     0.00   -5.475888\n",
       "11      (109.0, 0.0, 63.14, 0.0, 0.0, 0.0)     0.00    3.908825\n",
       "12      (109.0, 0.0, 63.14, 0.0, 0.0, 0.0)     0.00    3.908825\n",
       "13      (109.0, 0.0, 63.14, 0.0, 0.0, 0.0)     0.00    3.908825\n",
       "14      (109.0, 0.0, 63.14, 0.0, 0.0, 0.0)     0.00    3.908825\n",
       "15      (111.0, 0.0, 23.26, 0.0, 0.0, 0.0)     0.00   -5.491531\n",
       "16      (122.0, 0.0, 23.26, 0.0, 0.0, 0.0)     0.00    0.960459\n",
       "17      (0.0, 0.0, 303.95, 0.0, 13.0, 0.0)     0.00   42.570450\n",
       "18       (0.0, 0.0, 859.95, 0.0, 6.0, 0.0)     0.00  169.118905\n",
       "19     (0.0, 0.0, 1047.64, 0.0, 13.0, 0.0)     0.00  239.746101\n",
       "20     (0.0, 0.0, 1047.64, 0.0, 13.0, 0.0)     0.00  239.746101\n",
       "21      [0.0, 0.0, 303.95, 0.0, 3.0, -1.0]   -12.58    1.111613\n",
       "22      [0.0, 0.0, 303.95, 0.0, 3.0, -1.0]   -12.58    1.111613\n",
       "23       [0.0, 0.0, 303.95, 0.0, 3.0, 4.0]    50.32   59.372487\n",
       "24     [0.0, 0.0, 303.95, 0.0, 12.0, -1.0]   -12.58   27.937609\n",
       "25     [0.0, 0.0, 303.95, 0.0, 12.0, 24.0]   301.92  319.241979\n",
       "26     [0.0, 0.0, 303.95, 0.0, 13.0, -1.0]   -12.58   30.918275\n",
       "27     [0.0, 0.0, 303.95, 0.0, 13.0, -1.0]   -12.58   30.918275\n",
       "28     [0.0, 0.0, 303.95, 0.0, 13.0, -1.0]   -12.58   30.918275\n",
       "29     [0.0, 0.0, 303.95, 0.0, 13.0, -1.0]   -12.58   30.918275\n",
       "...                                    ...      ...         ...\n",
       "4015    [166.0, 0.0, 63.14, 0.0, 1.0, 3.0]    48.00   75.279054\n",
       "4016    [166.0, 0.0, 63.14, 0.0, 1.0, 5.0]    80.00   98.583404\n",
       "4017    [166.0, 0.0, 63.14, 0.0, 2.0, 4.0]    64.00   89.911895\n",
       "4018    [166.0, 0.0, 63.14, 0.0, 8.0, 3.0]    48.00   96.143718\n",
       "4019  [166.0, 0.0, 63.14, 0.0, 13.0, 15.0]   240.00  250.873146\n",
       "4020   [166.0, 0.0, 63.14, 0.0, 19.0, 7.0]   112.00  175.539745\n",
       "4021   [166.0, 4.0, 63.14, 2.0, 0.0, 17.0]   272.00  331.106297\n",
       "4022    [166.0, 7.0, 63.14, 3.0, 0.0, 2.0]    32.00  209.297702\n",
       "4023     [167.0, 7.0, 64.3, 3.0, 0.0, 0.0]     0.00  186.887449\n",
       "4024    [167.0, 7.0, 64.3, 3.0, 0.0, 30.0]   724.80  536.452693\n",
       "4025     [168.0, 0.0, 64.3, 0.0, 1.0, 5.0]   120.80  100.064045\n",
       "4026     [168.0, 0.0, 64.3, 0.0, 1.0, 5.0]   120.80  100.064045\n",
       "4027    [168.0, 0.0, 64.3, 0.0, 3.0, 12.0]   289.92  187.590601\n",
       "4028     [168.0, 1.0, 64.3, 1.0, 4.0, 0.0]     0.00   93.448605\n",
       "4029     [168.0, 4.0, 64.3, 3.0, 0.0, 0.0]     0.00  172.068106\n",
       "4030     [168.0, 4.0, 64.3, 3.0, 0.0, 3.0]    72.48  207.024631\n",
       "4031     [168.0, 4.0, 64.3, 3.0, 5.0, 3.0]    72.48  221.927962\n",
       "4032     [168.0, 4.0, 64.3, 3.0, 9.0, 1.0]    24.16  210.546277\n",
       "4033     [169.0, 6.0, 64.3, 2.0, 0.0, 0.0]     0.00  145.357103\n",
       "4034    [169.0, 6.0, 64.3, 2.0, 0.0, 10.0]   241.60  261.878851\n",
       "4035    [169.0, 6.0, 64.3, 2.0, 0.0, 13.0]   314.08  296.835375\n",
       "4036    [169.0, 7.0, 64.3, 3.0, 0.0, 15.0]   362.40  362.843160\n",
       "4037    [170.0, 3.0, 35.7, 0.0, 1.0, 36.0]    29.16  470.277679\n",
       "4038    [170.0, 3.0, 35.7, 0.0, 4.0, 14.0]    11.34  222.871832\n",
       "4039    [170.0, 3.0, 35.7, 0.0, 18.0, 2.0]     1.62  124.775062\n",
       "4040    [172.0, 1.0, 63.14, 1.0, 0.0, 2.0]    32.00  106.868915\n",
       "4041    [172.0, 1.0, 63.14, 1.0, 0.0, 3.0]    48.00  118.521090\n",
       "4042     [173.0, 1.0, 64.3, 1.0, 2.0, 0.0]     0.00   90.419995\n",
       "4043    [174.0, 0.0, 97.76, 0.0, 2.0, 2.0]    22.06   80.478755\n",
       "4044    [175.0, 7.0, 63.14, 3.0, 0.0, 0.0]     0.00  191.272253\n",
       "\n",
       "[4045 rows x 3 columns]"
      ]
     },
     "execution_count": 38,
     "metadata": {},
     "output_type": "execute_result"
    }
   ],
   "source": [
    "results_w_columns.toPandas()"
   ]
  },
  {
   "cell_type": "code",
   "execution_count": 40,
   "metadata": {},
   "outputs": [
    {
     "data": {
      "image/png": "[encoded data removed]",
      "text/plain": [
       "<Figure size 432x288 with 1 Axes>"
      ]
     },
     "metadata": {},
     "output_type": "display_data"
    }
   ],
   "source": [
    "import matplotlib.pyplot as plt\n",
    "plt.scatter(x=results_w_columns.toPandas()['prediction'],y=results_w_columns.toPandas()['Profits'])\n",
    "plt.xlabel('Projected Profits')\n",
    "plt.ylabel('Actual Profits')\n",
    "plt.show()"
   ]
  }
 ],
 "metadata": {
  "kernelspec": {
   "display_name": "Python 3",
   "language": "python",
   "name": "python3"
  },
  "language_info": {
   "codemirror_mode": {
    "name": "ipython",
    "version": 3
   },
   "file_extension": ".py",
   "mimetype": "text/x-python",
   "name": "python",
   "nbconvert_exporter": "python",
   "pygments_lexer": "ipython3",
   "version": "3.6.9"
  }
 },
 "nbformat": 4,
 "nbformat_minor": 2
}
